{
 "cells": [
  {
   "cell_type": "code",
   "execution_count": 1,
   "id": "a5b3dd44-a0b9-4790-a0d6-f38059b29a0b",
   "metadata": {},
   "outputs": [],
   "source": [
    "import numpy as np\n",
    "import scipy.stats as stats"
   ]
  },
  {
   "cell_type": "markdown",
   "id": "b3785457-4a57-4fb0-bd5b-2d4ef87f5ce7",
   "metadata": {},
   "source": [
    "### Задача 4\n",
    "\n",
    "**Рост матерей 172, 177, 158, 170, 178,175, 164, 160, 169** \n",
    "\n",
    "**Рост взрослых дочерей: 173, 175, 162, 174, 175, 168, 155, 170, 160**\n",
    "\n",
    "**Задачу решать с помощью функции. Есть ли статистически значимые различия в росте дочерей и матерей?**"
   ]
  },
  {
   "cell_type": "code",
   "execution_count": 2,
   "id": "b5f463eb-c548-46ef-a9ea-d719ca44e5c8",
   "metadata": {},
   "outputs": [
    {
     "data": {
      "text/plain": [
       "TtestResult(statistic=0.6648478531431979, pvalue=0.5228168632983574, df=9)"
      ]
     },
     "execution_count": 2,
     "metadata": {},
     "output_type": "execute_result"
    }
   ],
   "source": [
    "mothers = [172, 177, 158, 170, 178, 175, 164, 160, 169, 165]\n",
    "daughters = [173, 175, 162, 174, 175, 168, 155, 170, 160, 163]\n",
    "\n",
    "stats.ttest_rel(mothers, daughters)"
   ]
  },
  {
   "cell_type": "markdown",
   "id": "261f04be-fce1-4e54-bef6-ef7291c749ee",
   "metadata": {},
   "source": [
    "Так как $pvalue > \\alpha (0,05)$   \n",
    "\n",
    "Статистически заничмых различий нет"
   ]
  }
 ],
 "metadata": {
  "kernelspec": {
   "display_name": "Python 3 (ipykernel)",
   "language": "python",
   "name": "python3"
  },
  "language_info": {
   "codemirror_mode": {
    "name": "ipython",
    "version": 3
   },
   "file_extension": ".py",
   "mimetype": "text/x-python",
   "name": "python",
   "nbconvert_exporter": "python",
   "pygments_lexer": "ipython3",
   "version": "3.10.4"
  }
 },
 "nbformat": 4,
 "nbformat_minor": 5
}
