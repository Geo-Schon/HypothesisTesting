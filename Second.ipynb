{
 "cells": [
  {
   "cell_type": "code",
   "execution_count": 1,
   "id": "7871258c-5482-43d1-9260-f1c49dcb5b05",
   "metadata": {},
   "outputs": [],
   "source": [
    "import numpy as np\n",
    "import scipy.stats as stats"
   ]
  },
  {
   "cell_type": "markdown",
   "id": "9e4371dc-6ce6-458e-b2fe-994460f70e52",
   "metadata": {},
   "source": [
    "### Задача 3. \n",
    "**Проведите тест гипотезы. Утверждается, что шарики для подшипников, изготовленные автоматическим станком, имеют средний диаметр 17 мм. Используя односторонний критерий с α=0,05, проверить эту гипотезу, если в выборке из n=100 шариков средний диаметр оказался равным 17.5 мм, а дисперсия известна и равна 4 кв. мм.**\n",
    "\n",
    "$H_0$ :  $М(X) = 17$\n",
    "\n",
    "$H_1$ :  $М(X) = 17,5$\n",
    "\n",
    "Уровень значимости α=0,05;\n",
    "\n",
    "Дисперсия: D(X) = 4\n",
    "\n",
    "n = 100,\n",
    "\n",
    "Определяем альфа и сигма согласно центральной предельной теореме\n",
    "\n",
    "$a = M(X), \\text{ } \\sigma = \\sqrt {\\frac{D(X)}{n}}.$\n",
    "\n",
    "Учитывая нормальное распределение выборки, используем правило двух сигм - т.о. диаметр шариков с вероятностью 0.95\n",
    "находится в интервале\n",
    "\n",
    "$\\left( 17 - 2 \\cdot \\sqrt{\\frac{D(X)}{n}}, 17 + 2 \\cdot \\sqrt{\\frac{D(X)}{n}} \\right).$\n",
    "\n",
    "Находим правую критическую область\n",
    "\n",
    "$\\left( 17 + 2 \\cdot \\sqrt{\\frac{D(X)}{n}} \\right)$\n",
    "\n",
    "Получаем значение 17,4\n",
    "\n",
    "Таким образом, выборочное среднее 17,5 попадает в критическую область, следовательно гипотеза не подтверждается. \n"
   ]
  },
  {
   "cell_type": "code",
   "execution_count": null,
   "id": "e75642cc-2077-4156-9439-32c962f769c9",
   "metadata": {},
   "outputs": [],
   "source": []
  },
  {
   "cell_type": "code",
   "execution_count": null,
   "id": "9d92a9c9-346e-42fa-a777-fc755ffbe814",
   "metadata": {},
   "outputs": [],
   "source": []
  }
 ],
 "metadata": {
  "kernelspec": {
   "display_name": "Python 3 (ipykernel)",
   "language": "python",
   "name": "python3"
  },
  "language_info": {
   "codemirror_mode": {
    "name": "ipython",
    "version": 3
   },
   "file_extension": ".py",
   "mimetype": "text/x-python",
   "name": "python",
   "nbconvert_exporter": "python",
   "pygments_lexer": "ipython3",
   "version": "3.10.4"
  }
 },
 "nbformat": 4,
 "nbformat_minor": 5
}
