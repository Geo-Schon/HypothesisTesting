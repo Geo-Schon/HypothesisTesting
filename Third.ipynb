{
 "cells": [
  {
   "cell_type": "code",
   "execution_count": 3,
   "id": "3ee8fa57-901a-40e9-b1f7-9852f55dd819",
   "metadata": {},
   "outputs": [],
   "source": [
    "import numpy as np\n",
    "import scipy.stats as stats"
   ]
  },
  {
   "cell_type": "markdown",
   "id": "beddf76c-bda1-4392-ab7d-6c4f93436aed",
   "metadata": {},
   "source": [
    "### Задача 2. \n",
    "**Продавец утверждает, что средний вес пачки печенья составляет 200 г. Из партии извлечена выборка из 10 пачек. Вес каждой пачки составляет:**\n",
    "\n",
    "**202, 203, 199, 197, 195, 201, 200, 204, 194, 190**\n",
    "\n",
    "**Известно, что их веса распределены нормально. Верно ли утверждение продавца, если учитывать, что доверительная вероятность равна 99%?**"
   ]
  },
  {
   "cell_type": "markdown",
   "id": "74f25c2f-31f7-41ee-997c-0ccea8af149b",
   "metadata": {},
   "source": [
    "$H_0$ :  $М = 200$\n",
    "\n",
    "$H_1$ :  $М \\neq 200$"
   ]
  },
  {
   "cell_type": "code",
   "execution_count": 6,
   "id": "4dd752c5-4e84-4e24-ab6e-b8085e06e437",
   "metadata": {},
   "outputs": [],
   "source": [
    "weights = np.array([202, 203, 199, 197, 195, 201, 200, 204, 194, 190])\n",
    "n = 10\n",
    "\n",
    "mean = weights.mean()\n",
    "std = weights.std(ddof=1)\n"
   ]
  },
  {
   "cell_type": "markdown",
   "id": "4289187b-d745-4157-bfc1-d7304619df03",
   "metadata": {},
   "source": [
    "$t = \\dfrac{\\overline{X} - a}{\\sigma_X / \\sqrt{n}}$\n",
    "\n",
    "Посдатвляем значения\n",
    "\n",
    "$t = \\dfrac{\\overline{X} - 200}{std / \\sqrt{10}}$\n",
    "\n",
    "$t = \\dfrac{\\sqrt{10} \\cdot (\\overline{X} - 200)}{std}$"
   ]
  },
  {
   "cell_type": "code",
   "execution_count": 8,
   "id": "b0b9e034-232a-42d4-880e-7d811a377404",
   "metadata": {},
   "outputs": [],
   "source": [
    "t = (mean-200)/(std/np.sqrt(n))"
   ]
  },
  {
   "cell_type": "markdown",
   "id": "df3cc9dd-4901-4be7-a39a-03565356111e",
   "metadata": {},
   "source": [
    "Доверительная вероятность = 0.99\n",
    "\n",
    "Число степеней свободы = 9 (n-1)\n",
    "\n",
    "Критическое значение по таблице Стьюдента\n",
    "\n",
    "$t_1= 3.25; t_2= -3.25$\n",
    "\n",
    "$\\Omega_\\alpha = (-\\infty, -3.25) \\cup (3.25, \\infty).$\n",
    "\n",
    "Значение t не попадает в критическую область, то есть гипотезу $H_0$ нельзя отвергнуть"
   ]
  },
  {
   "cell_type": "code",
   "execution_count": null,
   "id": "10d13c5b-bd33-4164-bbe3-66160befb8e0",
   "metadata": {},
   "outputs": [],
   "source": []
  },
  {
   "cell_type": "code",
   "execution_count": null,
   "id": "a2e3adc4-5a4f-4e01-90fb-dd27f4880e5d",
   "metadata": {},
   "outputs": [],
   "source": []
  }
 ],
 "metadata": {
  "kernelspec": {
   "display_name": "Python 3 (ipykernel)",
   "language": "python",
   "name": "python3"
  },
  "language_info": {
   "codemirror_mode": {
    "name": "ipython",
    "version": 3
   },
   "file_extension": ".py",
   "mimetype": "text/x-python",
   "name": "python",
   "nbconvert_exporter": "python",
   "pygments_lexer": "ipython3",
   "version": "3.10.4"
  }
 },
 "nbformat": 4,
 "nbformat_minor": 5
}
